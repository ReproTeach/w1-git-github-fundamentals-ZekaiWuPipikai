{
 "cells": [
  {
   "cell_type": "code",
   "execution_count": 1,
   "id": "4cd8e79e-5661-463d-a711-ac850a747130",
   "metadata": {
    "tags": []
   },
   "outputs": [
    {
     "name": "stdout",
     "output_type": "stream",
     "text": [
      "Hello World\n"
     ]
    }
   ],
   "source": [
    "print(\"Hello World\")"
   ]
  },
  {
   "cell_type": "markdown",
   "id": "4b51501e-2bd4-432b-a077-780a067b9d19",
   "metadata": {
    "tags": []
   },
   "source": [
    "# COMM 160DS\n",
    "\n",
    "## Thursday\n",
    "\n",
    "We are learning the reproducible research principles;\n",
    "\n",
    "- tranparency\n",
    "- collboration\n",
    "- trust\n",
    "- 牛逼"
   ]
  },
  {
   "cell_type": "markdown",
   "id": "763f1b2b-1ac9-4ec5-9d3a-1220ccdb308e",
   "metadata": {
    "tags": []
   },
   "source": [
    "# COMM 160DS\n",
    "\n",
    "## Thursday"
   ]
  },
  {
   "cell_type": "code",
   "execution_count": 8,
   "id": "43cbe65d-2e17-401d-b063-9b7629b9ca54",
   "metadata": {
    "tags": []
   },
   "outputs": [],
   "source": [
    "import numpy as np"
   ]
  },
  {
   "cell_type": "code",
   "execution_count": 10,
   "id": "ef84bf68-da95-4fc2-8cdd-1341fd6070da",
   "metadata": {
    "tags": []
   },
   "outputs": [],
   "source": [
    "test = np.array([1,4,6,7])"
   ]
  },
  {
   "cell_type": "code",
   "execution_count": 11,
   "id": "7dabace2-7ba0-453f-bfbb-aa8db4de187f",
   "metadata": {
    "tags": []
   },
   "outputs": [
    {
     "data": {
      "text/plain": [
       "numpy.ndarray"
      ]
     },
     "execution_count": 11,
     "metadata": {},
     "output_type": "execute_result"
    }
   ],
   "source": [
    "type(test)"
   ]
  },
  {
   "cell_type": "code",
   "execution_count": null,
   "id": "e5c70cd1-874a-4c42-8681-d39a3820b285",
   "metadata": {},
   "outputs": [],
   "source": []
  }
 ],
 "metadata": {
  "kernelspec": {
   "display_name": "Python 3 (ipykernel)",
   "language": "python",
   "name": "python3"
  },
  "language_info": {
   "codemirror_mode": {
    "name": "ipython",
    "version": 3
   },
   "file_extension": ".py",
   "mimetype": "text/x-python",
   "name": "python",
   "nbconvert_exporter": "python",
   "pygments_lexer": "ipython3",
   "version": "3.10.9"
  }
 },
 "nbformat": 4,
 "nbformat_minor": 5
}
